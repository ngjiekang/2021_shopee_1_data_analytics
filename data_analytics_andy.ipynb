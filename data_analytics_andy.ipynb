{
 "cells": [
  {
   "cell_type": "code",
   "execution_count": 103,
   "metadata": {},
   "outputs": [],
   "source": [
    "import pandas as pd\n",
    "data = pd.read_json('contacts.json')"
   ]
  },
  {
   "cell_type": "code",
   "execution_count": 104,
   "metadata": {},
   "outputs": [
    {
     "data": {
      "text/html": [
       "<div>\n",
       "<style scoped>\n",
       "    .dataframe tbody tr th:only-of-type {\n",
       "        vertical-align: middle;\n",
       "    }\n",
       "\n",
       "    .dataframe tbody tr th {\n",
       "        vertical-align: top;\n",
       "    }\n",
       "\n",
       "    .dataframe thead th {\n",
       "        text-align: right;\n",
       "    }\n",
       "</style>\n",
       "<table border=\"1\" class=\"dataframe\">\n",
       "  <thead>\n",
       "    <tr style=\"text-align: right;\">\n",
       "      <th></th>\n",
       "      <th>Id</th>\n",
       "      <th>Email</th>\n",
       "      <th>Phone</th>\n",
       "      <th>Contacts</th>\n",
       "      <th>OrderId</th>\n",
       "    </tr>\n",
       "  </thead>\n",
       "  <tbody>\n",
       "    <tr>\n",
       "      <td>0</td>\n",
       "      <td>0</td>\n",
       "      <td>gkzAbIy@qq.com</td>\n",
       "      <td></td>\n",
       "      <td>1</td>\n",
       "      <td></td>\n",
       "    </tr>\n",
       "    <tr>\n",
       "      <td>1</td>\n",
       "      <td>1</td>\n",
       "      <td></td>\n",
       "      <td>329442681752</td>\n",
       "      <td>4</td>\n",
       "      <td>vDDJJcxfLtSfkooPhbYnJdxov</td>\n",
       "    </tr>\n",
       "    <tr>\n",
       "      <td>2</td>\n",
       "      <td>2</td>\n",
       "      <td></td>\n",
       "      <td>9125983679</td>\n",
       "      <td>0</td>\n",
       "      <td></td>\n",
       "    </tr>\n",
       "    <tr>\n",
       "      <td>3</td>\n",
       "      <td>3</td>\n",
       "      <td>mdllpYmE@gmail.com</td>\n",
       "      <td></td>\n",
       "      <td>0</td>\n",
       "      <td>bHquEnCbbsGLqllwryxPsNOxa</td>\n",
       "    </tr>\n",
       "    <tr>\n",
       "      <td>4</td>\n",
       "      <td>4</td>\n",
       "      <td></td>\n",
       "      <td>300364407</td>\n",
       "      <td>2</td>\n",
       "      <td></td>\n",
       "    </tr>\n",
       "    <tr>\n",
       "      <td>...</td>\n",
       "      <td>...</td>\n",
       "      <td>...</td>\n",
       "      <td>...</td>\n",
       "      <td>...</td>\n",
       "      <td>...</td>\n",
       "    </tr>\n",
       "    <tr>\n",
       "      <td>499995</td>\n",
       "      <td>499995</td>\n",
       "      <td></td>\n",
       "      <td>10072395382</td>\n",
       "      <td>2</td>\n",
       "      <td>whJlUOGNqjxCRzmIRdURQvlNv</td>\n",
       "    </tr>\n",
       "    <tr>\n",
       "      <td>499996</td>\n",
       "      <td>499996</td>\n",
       "      <td></td>\n",
       "      <td>571709661031</td>\n",
       "      <td>4</td>\n",
       "      <td>JqIXOONvrwvJxZqNxCYHqnrKS</td>\n",
       "    </tr>\n",
       "    <tr>\n",
       "      <td>499997</td>\n",
       "      <td>499997</td>\n",
       "      <td></td>\n",
       "      <td>4541459979</td>\n",
       "      <td>2</td>\n",
       "      <td>beXCZSzcHaBwAYoDcpQqjuAFO</td>\n",
       "    </tr>\n",
       "    <tr>\n",
       "      <td>499998</td>\n",
       "      <td>499998</td>\n",
       "      <td>RzSDsyH@hotmail.com</td>\n",
       "      <td>98947185431</td>\n",
       "      <td>1</td>\n",
       "      <td>ehjeFACGiwrERQxbziMxwOWku</td>\n",
       "    </tr>\n",
       "    <tr>\n",
       "      <td>499999</td>\n",
       "      <td>499999</td>\n",
       "      <td></td>\n",
       "      <td>880053388839</td>\n",
       "      <td>0</td>\n",
       "      <td>JibSBRgzYdfzkzbTuGUXrcvDX</td>\n",
       "    </tr>\n",
       "  </tbody>\n",
       "</table>\n",
       "<p>500000 rows × 5 columns</p>\n",
       "</div>"
      ],
      "text/plain": [
       "            Id                Email         Phone  Contacts  \\\n",
       "0            0       gkzAbIy@qq.com                       1   \n",
       "1            1                       329442681752         4   \n",
       "2            2                         9125983679         0   \n",
       "3            3   mdllpYmE@gmail.com                       0   \n",
       "4            4                          300364407         2   \n",
       "...        ...                  ...           ...       ...   \n",
       "499995  499995                        10072395382         2   \n",
       "499996  499996                       571709661031         4   \n",
       "499997  499997                         4541459979         2   \n",
       "499998  499998  RzSDsyH@hotmail.com   98947185431         1   \n",
       "499999  499999                       880053388839         0   \n",
       "\n",
       "                          OrderId  \n",
       "0                                  \n",
       "1       vDDJJcxfLtSfkooPhbYnJdxov  \n",
       "2                                  \n",
       "3       bHquEnCbbsGLqllwryxPsNOxa  \n",
       "4                                  \n",
       "...                           ...  \n",
       "499995  whJlUOGNqjxCRzmIRdURQvlNv  \n",
       "499996  JqIXOONvrwvJxZqNxCYHqnrKS  \n",
       "499997  beXCZSzcHaBwAYoDcpQqjuAFO  \n",
       "499998  ehjeFACGiwrERQxbziMxwOWku  \n",
       "499999  JibSBRgzYdfzkzbTuGUXrcvDX  \n",
       "\n",
       "[500000 rows x 5 columns]"
      ]
     },
     "execution_count": 104,
     "metadata": {},
     "output_type": "execute_result"
    }
   ],
   "source": [
    "data"
   ]
  },
  {
   "cell_type": "code",
   "execution_count": 105,
   "metadata": {},
   "outputs": [
    {
     "name": "stdout",
     "output_type": "stream",
     "text": [
      "Id\n",
      "500000\n",
      "Email\n",
      "249157\n",
      "Phone\n",
      "190678\n",
      "Contacts\n",
      "5\n",
      "OrderId\n",
      "189303\n"
     ]
    }
   ],
   "source": [
    "for i in data:\n",
    "    print(i)\n",
    "    print(len(data[i].unique()))"
   ]
  },
  {
   "cell_type": "code",
   "execution_count": 106,
   "metadata": {},
   "outputs": [
    {
     "data": {
      "text/plain": [
       "629138"
      ]
     },
     "execution_count": 106,
     "metadata": {},
     "output_type": "execute_result"
    }
   ],
   "source": [
    "249157+190678+189303"
   ]
  },
  {
   "cell_type": "code",
   "execution_count": 107,
   "metadata": {},
   "outputs": [],
   "source": [
    "import networkx as nx\n",
    "G = nx.Graph()"
   ]
  },
  {
   "cell_type": "code",
   "execution_count": 108,
   "metadata": {},
   "outputs": [],
   "source": [
    "#add nodes\n",
    "for col in ['Id','Email','Phone','OrderId']:\n",
    "    unique_elements = [ col+':'+str(x) for x in data[col].unique() if x!='']\n",
    "    for node in unique_elements:\n",
    "      G.add_node(node)"
   ]
  },
  {
   "cell_type": "code",
   "execution_count": 109,
   "metadata": {},
   "outputs": [
    {
     "data": {
      "text/plain": [
       "Index(['Id', 'Email', 'Phone', 'Contacts', 'OrderId'], dtype='object')"
      ]
     },
     "execution_count": 109,
     "metadata": {},
     "output_type": "execute_result"
    }
   ],
   "source": [
    "G.number_of_nodes()\n",
    "col_names = data.columns\n",
    "col_names"
   ]
  },
  {
   "cell_type": "code",
   "execution_count": 110,
   "metadata": {},
   "outputs": [],
   "source": [
    "import json\n",
    "data_json = json.loads(data.to_json(orient=\"values\"))\n",
    "for row in data_json:\n",
    "    for index in range(len(row)):\n",
    "        if index!=0 and row[index]!='' and index!=3:\n",
    "            Id = 'Id:'+ str(row[0])\n",
    "            node = col_names[index]+':'+row[index]\n",
    "            G.add_edge(Id,node)\n"
   ]
  },
  {
   "cell_type": "code",
   "execution_count": 111,
   "metadata": {},
   "outputs": [],
   "source": []
  },
  {
   "cell_type": "code",
   "execution_count": 119,
   "metadata": {},
   "outputs": [],
   "source": [
    "sub_graphs = nx.connected_component_subgraphs(G)\n",
    "group_dict = {}\n",
    "for i, sg in enumerate(sub_graphs):\n",
    "#     print(\"subgraph {} has {} nodes\".format(i, sg.number_of_nodes()))\n",
    "#     print(\"\\tNodes:\", sg.nodes())\n",
    "#     print(\"\\tEdges:\", sg.edges())\n",
    "#     if i == limit:\n",
    "#         break\n",
    "    id_nodes = [x for x in sg.nodes() if x.startswith('Id')]\n",
    "    id_nodes = [int(x.split(':')[1]) for x in id_nodes]\n",
    "    id_nodes.sort()\n",
    "    for Id in id_nodes:\n",
    "#         print(Id)\n",
    "#         print(id_nodes)\n",
    "        group_dict[Id] = id_nodes"
   ]
  },
  {
   "cell_type": "code",
   "execution_count": 120,
   "metadata": {},
   "outputs": [
    {
     "data": {
      "text/plain": [
       "500000"
      ]
     },
     "execution_count": 120,
     "metadata": {},
     "output_type": "execute_result"
    }
   ],
   "source": [
    "len(group_dict)"
   ]
  },
  {
   "cell_type": "code",
   "execution_count": null,
   "metadata": {},
   "outputs": [
    {
     "data": {
      "application/vnd.jupyter.widget-view+json": {
       "model_id": "5ceda0b72a4a4c9b91518cdf4d5391d2",
       "version_major": 2,
       "version_minor": 0
      },
      "text/plain": [
       "HBox(children=(FloatProgress(value=0.0, max=500000.0), HTML(value='')))"
      ]
     },
     "metadata": {},
     "output_type": "display_data"
    }
   ],
   "source": [
    "from tqdm.notebook import tqdm\n",
    "\n",
    "contact_dict = {}\n",
    "for _id in tqdm(group_dict):\n",
    "    count = data[data.Id.isin(group_dict[_id])]['Contacts'].sum()\n",
    "    contact_dict[_id] = count\n",
    "len(contact_dict)"
   ]
  },
  {
   "cell_type": "code",
   "execution_count": 130,
   "metadata": {},
   "outputs": [
    {
     "data": {
      "text/plain": [
       "[0]"
      ]
     },
     "execution_count": 130,
     "metadata": {},
     "output_type": "execute_result"
    }
   ],
   "source": []
  },
  {
   "cell_type": "code",
   "execution_count": 128,
   "metadata": {},
   "outputs": [
    {
     "data": {
      "text/plain": [
       "12"
      ]
     },
     "execution_count": 128,
     "metadata": {},
     "output_type": "execute_result"
    }
   ],
   "source": []
  },
  {
   "cell_type": "code",
   "execution_count": null,
   "metadata": {},
   "outputs": [],
   "source": []
  }
 ],
 "metadata": {
  "kernelspec": {
   "display_name": "Python 3",
   "language": "python",
   "name": "python3"
  },
  "language_info": {
   "codemirror_mode": {
    "name": "ipython",
    "version": 3
   },
   "file_extension": ".py",
   "mimetype": "text/x-python",
   "name": "python",
   "nbconvert_exporter": "python",
   "pygments_lexer": "ipython3",
   "version": "3.7.4"
  }
 },
 "nbformat": 4,
 "nbformat_minor": 2
}
